{
 "cells": [
  {
   "cell_type": "markdown",
   "metadata": {
    "id": "kw1B2R_WCU7X"
   },
   "source": [
    "Welcome to the first practical work of the week! In this practical, we will learn about the programming language Python as well as NumPy and Matplotlib, two fundamental tools for data science and machine learning in Python."
   ]
  },
  {
   "cell_type": "markdown",
   "metadata": {},
   "source": [
    "## Python Programmiing"
   ]
  },
  {
   "cell_type": "markdown",
   "metadata": {},
   "source": [
    "### Python is a high-level, interpreted, general-purpose programming language that is widely used for web development, data analysis, artificial intelligence, machine learning, automation, and more."
   ]
  },
  {
   "cell_type": "markdown",
   "metadata": {},
   "source": [
    "## Print Hello World"
   ]
  },
  {
   "cell_type": "code",
   "execution_count": 2,
   "metadata": {},
   "outputs": [
    {
     "name": "stdout",
     "output_type": "stream",
     "text": [
      "Hello world\n"
     ]
    }
   ],
   "source": [
    "print(\"Hello world\")"
   ]
  },
  {
   "cell_type": "markdown",
   "metadata": {},
   "source": [
    "### !mkdir creates new file or folder"
   ]
  },
  {
   "cell_type": "code",
   "execution_count": 2,
   "metadata": {
    "executionInfo": {
     "elapsed": 474,
     "status": "ok",
     "timestamp": 1730640834410,
     "user": {
      "displayName": "Abdullah Al Alif",
      "userId": "13739707492510491881"
     },
     "user_tz": -360
    },
    "id": "RfotOwFcOwZF"
   },
   "outputs": [],
   "source": [
    "!mkdir python_class1"
   ]
  },
  {
   "cell_type": "code",
   "execution_count": 1,
   "metadata": {
    "colab": {
     "base_uri": "https://localhost:8080/"
    },
    "executionInfo": {
     "elapsed": 459,
     "status": "ok",
     "timestamp": 1730640945501,
     "user": {
      "displayName": "Abdullah Al Alif",
      "userId": "13739707492510491881"
     },
     "user_tz": -360
    },
    "id": "kRiBLlPDPOhA",
    "outputId": "eff9beac-77e6-4f00-be63-a6fc58b0760a"
   },
   "outputs": [
    {
     "name": "stdout",
     "output_type": "stream",
     "text": [
      "my name is Kawser Talukder\n"
     ]
    }
   ],
   "source": [
    "print(\"my name is Kawser Talukder\")"
   ]
  },
  {
   "cell_type": "markdown",
   "metadata": {},
   "source": [
    "## Take User Input"
   ]
  },
  {
   "cell_type": "code",
   "execution_count": 3,
   "metadata": {
    "colab": {
     "base_uri": "https://localhost:8080/"
    },
    "executionInfo": {
     "elapsed": 18211,
     "status": "ok",
     "timestamp": 1730641478265,
     "user": {
      "displayName": "Abdullah Al Alif",
      "userId": "13739707492510491881"
     },
     "user_tz": -360
    },
    "id": "o2Ei9KauRAEP",
    "outputId": "0ea7fa82-1c11-43e8-d3d3-062ba849f68a"
   },
   "outputs": [
    {
     "name": "stdout",
     "output_type": "stream",
     "text": [
      "Hello, Kawser !\n"
     ]
    }
   ],
   "source": [
    "\n",
    "user_input = input(\"Enter Your Name: \")\n",
    "print(f\"Hello, {user_input} !\")"
   ]
  },
  {
   "cell_type": "markdown",
   "metadata": {},
   "source": [
    "## Type Casting String to Int value"
   ]
  },
  {
   "cell_type": "code",
   "execution_count": null,
   "metadata": {},
   "outputs": [],
   "source": [
    "a = int(input())\n",
    "b = int(input())\n",
    "print(f\"{a+b}\")"
   ]
  },
  {
   "cell_type": "code",
   "execution_count": 5,
   "metadata": {
    "colab": {
     "base_uri": "https://localhost:8080/"
    },
    "executionInfo": {
     "elapsed": 6,
     "status": "ok",
     "timestamp": 1678700809590,
     "user": {
      "displayName": "Kamruz Jahan",
      "userId": "15357684418478391327"
     },
     "user_tz": -360
    },
    "id": "qeGAvLq1ALJ4",
    "outputId": "0c3af536-f85d-48d5-f3b7-3d0c83493a88"
   },
   "outputs": [
    {
     "name": "stdout",
     "output_type": "stream",
     "text": [
      "86400 Seconds\n"
     ]
    }
   ],
   "source": [
    "seconds_in_a_day = 24 * 60 * 60\n",
    "print(str(seconds_in_a_day) + \" Seconds\")"
   ]
  },
  {
   "cell_type": "code",
   "execution_count": null,
   "metadata": {
    "colab": {
     "base_uri": "https://localhost:8080/"
    },
    "executionInfo": {
     "elapsed": 558,
     "status": "ok",
     "timestamp": 1730642217246,
     "user": {
      "displayName": "Abdullah Al Alif",
      "userId": "13739707492510491881"
     },
     "user_tz": -360
    },
    "id": "mHZhV_yHXfFe",
    "outputId": "91801040-eede-442f-d601-d0240fc55d8f"
   },
   "outputs": [
    {
     "name": "stdout",
     "output_type": "stream",
     "text": [
      "86400 seconds\n",
      "86400 seconds\n"
     ]
    }
   ],
   "source": [
    "seconds_in_a_day= 24*60*60\n",
    "print(str(seconds_in_a_day)+\" seconds\")\n",
    "print(f\"{seconds_in_a_day} seconds\")\n"
   ]
  },
  {
   "cell_type": "markdown",
   "metadata": {
    "id": "njoPs3q1G75-"
   },
   "source": [
    "Click on the \"play\" button to execute the cell. You should be able to see the result. Alternatively, you can also execute the cell by pressing Ctrl + Enter if you are on Windows / Linux or Command + Enter if you are on a Mac."
   ]
  },
  {
   "cell_type": "markdown",
   "metadata": {
    "id": "NvdYaBgHHdbw"
   },
   "source": [
    "Variables that you defined in one cell can later be used in other cells:"
   ]
  },
  {
   "cell_type": "code",
   "execution_count": null,
   "metadata": {
    "colab": {
     "base_uri": "https://localhost:8080/"
    },
    "executionInfo": {
     "elapsed": 5,
     "status": "ok",
     "timestamp": 1678700092671,
     "user": {
      "displayName": "Kamruz Jahan",
      "userId": "15357684418478391327"
     },
     "user_tz": -360
    },
    "id": "s1kp5Zv0JBSx",
    "outputId": "ef58d1a1-5d4a-49ab-9046-fe115f55797c"
   },
   "outputs": [
    {
     "data": {
      "text/plain": [
       "604800"
      ]
     },
     "execution_count": 7,
     "metadata": {},
     "output_type": "execute_result"
    }
   ],
   "source": [
    "seconds_in_a_week = 7 * seconds_in_a_day\n",
    "seconds_in_a_week"
   ]
  },
  {
   "cell_type": "markdown",
   "metadata": {
    "id": "uALfY4q1JFQ0"
   },
   "source": [
    "Note that the order of execution is important. For instance, if we do not run the cell storing *seconds_in_a_day* beforehand, the above cell will raise an error, as it depends on this variable. To make sure that you run all the cells in the correct order, you can also click on \"Runtime\" in the top-level menu, then \"Run all\"."
   ]
  },
  {
   "cell_type": "markdown",
   "metadata": {
    "id": "HvXs_KaoRWQ9"
   },
   "source": [
    "**Exercise.** Add a cell below this cell: click on this cell then click on \"+ Code\". In the new cell, compute the number of seconds in a year by reusing the variable *seconds_in_a_day*. Run the new cell."
   ]
  },
  {
   "cell_type": "markdown",
   "metadata": {
    "id": "qyLSwlxnJqXX"
   },
   "source": [
    "# Python"
   ]
  },
  {
   "cell_type": "markdown",
   "metadata": {
    "id": "3ltwm91eJyQM"
   },
   "source": [
    "Python is one of the most popular programming languages for machine learning, both in academia and in industry. As such, it is essential to learn this language for anyone interested in machine learning. In this section, we will review Python basics."
   ]
  },
  {
   "cell_type": "markdown",
   "metadata": {
    "id": "xHTTJvQ8VKRe"
   },
   "source": [
    "### **Print and Comments**"
   ]
  },
  {
   "cell_type": "code",
   "execution_count": 6,
   "metadata": {
    "colab": {
     "base_uri": "https://localhost:8080/"
    },
    "executionInfo": {
     "elapsed": 542,
     "status": "ok",
     "timestamp": 1678700103214,
     "user": {
      "displayName": "Kamruz Jahan",
      "userId": "15357684418478391327"
     },
     "user_tz": -360
    },
    "id": "1e0vvAMDVIw1",
    "outputId": "b16ff103-72ad-460c-ae7a-eded1806e3fe"
   },
   "outputs": [
    {
     "name": "stdout",
     "output_type": "stream",
     "text": [
      "Hello World\n"
     ]
    }
   ],
   "source": [
    "print(\"Hello World\")"
   ]
  },
  {
   "cell_type": "code",
   "execution_count": 7,
   "metadata": {
    "colab": {
     "base_uri": "https://localhost:8080/"
    },
    "executionInfo": {
     "elapsed": 10,
     "status": "ok",
     "timestamp": 1652856040573,
     "user": {
      "displayName": "Faisal Muhammad Shah",
      "userId": "17790463638566036326"
     },
     "user_tz": -360
    },
    "id": "d9-EIphUVhJw",
    "outputId": "dc9539b8-6eb2-4719-ccd4-1b4ef487cf83"
   },
   "outputs": [
    {
     "name": "stdout",
     "output_type": "stream",
     "text": [
      "Hello World\n"
     ]
    }
   ],
   "source": [
    "# Single Line Comments\n",
    "print(\"Hello World\")"
   ]
  },
  {
   "cell_type": "code",
   "execution_count": 8,
   "metadata": {
    "colab": {
     "base_uri": "https://localhost:8080/"
    },
    "executionInfo": {
     "elapsed": 482,
     "status": "ok",
     "timestamp": 1678700237019,
     "user": {
      "displayName": "Kamruz Jahan",
      "userId": "15357684418478391327"
     },
     "user_tz": -360
    },
    "id": "h-1Ehu0bVeG-",
    "outputId": "6434b482-befd-42ea-ec80-62a1d8d273a2"
   },
   "outputs": [
    {
     "name": "stdout",
     "output_type": "stream",
     "text": [
      "Hello World\n"
     ]
    }
   ],
   "source": [
    "\"\"\"\n",
    "  Multiline Comments\n",
    "  Sample Comment\n",
    "  print(\"Python\")\n",
    "\"\"\"\n",
    "print(\"Hello World\")"
   ]
  },
  {
   "cell_type": "code",
   "execution_count": 9,
   "metadata": {
    "colab": {
     "base_uri": "https://localhost:8080/"
    },
    "executionInfo": {
     "elapsed": 4117,
     "status": "ok",
     "timestamp": 1678700528446,
     "user": {
      "displayName": "Kamruz Jahan",
      "userId": "15357684418478391327"
     },
     "user_tz": -360
    },
    "id": "ROLZx8ouVfro",
    "outputId": "1adf390b-b405-4d32-b76f-5698d821abf6"
   },
   "outputs": [
    {
     "name": "stdout",
     "output_type": "stream",
     "text": [
      "Hello Kawser\n",
      "<class 'str'>\n"
     ]
    }
   ],
   "source": [
    "name = input(\"Pelase Enter your name: \")\n",
    "print(\"Hello \" + name)\n",
    "\n",
    "print(type(name))\n"
   ]
  },
  {
   "cell_type": "markdown",
   "metadata": {
    "id": "HtP8QpDxY2TR"
   },
   "source": [
    "**Input**"
   ]
  },
  {
   "cell_type": "code",
   "execution_count": 11,
   "metadata": {
    "colab": {
     "base_uri": "https://localhost:8080/"
    },
    "executionInfo": {
     "elapsed": 17466,
     "status": "ok",
     "timestamp": 1652856058035,
     "user": {
      "displayName": "Faisal Muhammad Shah",
      "userId": "17790463638566036326"
     },
     "user_tz": -360
    },
    "id": "OrgkaZ7sY06r",
    "outputId": "68729282-a235-44c0-d27d-be66166b9129"
   },
   "outputs": [
    {
     "name": "stdout",
     "output_type": "stream",
     "text": [
      "The string is Kawser\n",
      "The number is 15\n",
      "<class 'int'>\n"
     ]
    }
   ],
   "source": [
    "value = input(\"Please enter a string:\\n\")\n",
    "\n",
    "print(\"The string is\", value)\n",
    "\n",
    "number = int(input(\"Please enter a integer number:\\n\"))\n",
    "\n",
    "print(\"The number is\", number)\n",
    "print(type(number))"
   ]
  },
  {
   "cell_type": "markdown",
   "metadata": {
    "id": "9aPJs1vxTyjZ"
   },
   "source": [
    "**Variable**\n",
    "* A variable allows you to store information and reuse it later in your program.\n",
    "\n",
    "* A variable can have a short name (like x and y) or a more descriptive name (age, carname, total_volume).\n",
    "\n",
    "Rules for Python variables:\n",
    "\n",
    "\n",
    "*   A variable name must start with a letter or the underscore character\n",
    "*   A variable name cannot start with a number\n",
    "*   A variable name can only contain alpha-numeric characters and underscores (A-z, 0-9, and _ )\n",
    "*   Variable names are case-sensitive (age, Age and AGE are three different variables)\n",
    "\n",
    "\n",
    "\n",
    "\n",
    "\n",
    "\n",
    "\n",
    "\n",
    "\n"
   ]
  },
  {
   "cell_type": "code",
   "execution_count": 23,
   "metadata": {},
   "outputs": [],
   "source": [
    "name = \"Kawser\"\n",
    "age = 25\n",
    "height = 5.8"
   ]
  },
  {
   "cell_type": "markdown",
   "metadata": {},
   "source": [
    "**Explain Code**\n",
    "* \"Kawser\" → value (string type)\n",
    "\n",
    "* age → stores an integer\n",
    "\n",
    "* height → stores a float number"
   ]
  },
  {
   "cell_type": "code",
   "execution_count": 13,
   "metadata": {
    "id": "LS1tNIZcTbe5"
   },
   "outputs": [],
   "source": [
    "my_variable= 7;\n",
    "my_variable2= 7.5;\n",
    "my_variable3= \"Hello World\";"
   ]
  },
  {
   "cell_type": "code",
   "execution_count": 14,
   "metadata": {
    "id": "cCma6Oj_7T8n"
   },
   "outputs": [],
   "source": [
    "string1 = \"some text\"\n",
    "string2 = 'some other text'"
   ]
  },
  {
   "cell_type": "markdown",
   "metadata": {
    "id": "Irr4xuWu7Znu"
   },
   "source": [
    "Strings behave similarly to lists. As such we can access individual elements in exactly the same way"
   ]
  },
  {
   "cell_type": "markdown",
   "metadata": {},
   "source": [
    "**Characteristics of Slice Operation**\n",
    "* string1[:4] is a slice operation used to extract part of a string.\n",
    "* start → index where slicing begins (included)\n",
    "* end → index where slicing stops (excluded)"
   ]
  },
  {
   "cell_type": "markdown",
   "metadata": {},
   "source": [
    "### Print 'some' for string1"
   ]
  },
  {
   "cell_type": "code",
   "execution_count": 16,
   "metadata": {
    "colab": {
     "base_uri": "https://localhost:8080/",
     "height": 35
    },
    "executionInfo": {
     "elapsed": 505,
     "status": "ok",
     "timestamp": 1678705149551,
     "user": {
      "displayName": "Kamruz Jahan",
      "userId": "15357684418478391327"
     },
     "user_tz": -360
    },
    "id": "26_POhLO7iM3",
    "outputId": "258044b2-4b69-4995-b77f-0ed0b6641aa5"
   },
   "outputs": [
    {
     "data": {
      "text/plain": [
       "'some'"
      ]
     },
     "execution_count": 16,
     "metadata": {},
     "output_type": "execute_result"
    }
   ],
   "source": [
    "string1[:4]"
   ]
  },
  {
   "cell_type": "markdown",
   "metadata": {
    "id": "oA_UD0JV7oPw"
   },
   "source": [
    "and similarly for slices"
   ]
  },
  {
   "cell_type": "markdown",
   "metadata": {},
   "source": [
    "### Print 'text' for String1"
   ]
  },
  {
   "cell_type": "code",
   "execution_count": 17,
   "metadata": {
    "colab": {
     "base_uri": "https://localhost:8080/",
     "height": 35
    },
    "executionInfo": {
     "elapsed": 512,
     "status": "ok",
     "timestamp": 1678705106412,
     "user": {
      "displayName": "Kamruz Jahan",
      "userId": "15357684418478391327"
     },
     "user_tz": -360
    },
    "id": "pHPy3Q_vnXGt",
    "outputId": "a2ec43dd-d3ca-4713-84a8-8d34c877f3c0"
   },
   "outputs": [
    {
     "data": {
      "text/plain": [
       "' text'"
      ]
     },
     "execution_count": 17,
     "metadata": {},
     "output_type": "execute_result"
    }
   ],
   "source": [
    "string1[4:]"
   ]
  },
  {
   "cell_type": "markdown",
   "metadata": {},
   "source": [
    "### Print String2 'other'"
   ]
  },
  {
   "cell_type": "code",
   "execution_count": 20,
   "metadata": {
    "colab": {
     "base_uri": "https://localhost:8080/"
    },
    "executionInfo": {
     "elapsed": 20,
     "status": "ok",
     "timestamp": 1652856058044,
     "user": {
      "displayName": "Faisal Muhammad Shah",
      "userId": "17790463638566036326"
     },
     "user_tz": -360
    },
    "id": "dcZFcLqQ7qCe",
    "outputId": "17c14068-4c1a-44bf-8aeb-fa819ddfc3e9"
   },
   "outputs": [
    {
     "data": {
      "text/plain": [
       "'other'"
      ]
     },
     "execution_count": 20,
     "metadata": {},
     "output_type": "execute_result"
    }
   ],
   "source": [
    "string2[5:10]"
   ]
  },
  {
   "cell_type": "markdown",
   "metadata": {
    "id": "hOQ_CIiu76YG"
   },
   "source": [
    "String concatenation is performed using the `+` operator"
   ]
  },
  {
   "cell_type": "code",
   "execution_count": 21,
   "metadata": {},
   "outputs": [
    {
     "name": "stdout",
     "output_type": "stream",
     "text": [
      "some text\n",
      "some other text\n"
     ]
    }
   ],
   "source": [
    "multiline = string1 + \"\\n\" + string2\n",
    "print(multiline)"
   ]
  },
  {
   "cell_type": "markdown",
   "metadata": {},
   "source": [
    "## what is the behaviour of end=' ' operatiions\n",
    "### print(string1, end=' ')\n",
    "### Normally, print() ends with a newline (\\n).\n",
    "### The end=' ' changes that — it prints a space instead of a new line.\n",
    "### So the next print will continue on the same line."
   ]
  },
  {
   "cell_type": "code",
   "execution_count": 22,
   "metadata": {
    "colab": {
     "base_uri": "https://localhost:8080/",
     "height": 35
    },
    "executionInfo": {
     "elapsed": 500,
     "status": "ok",
     "timestamp": 1678705254323,
     "user": {
      "displayName": "Kamruz Jahan",
      "userId": "15357684418478391327"
     },
     "user_tz": -360
    },
    "id": "mxqNMKCY79_W",
    "outputId": "ee38bcb7-ffd2-4453-8ea1-a3f945e4f092"
   },
   "outputs": [
    {
     "name": "stdout",
     "output_type": "stream",
     "text": [
      "some text some other text\n",
      "some text\n",
      "some other text\n"
     ]
    }
   ],
   "source": [
    "print(string1, end=' ')\n",
    "print(string2)\n",
    "\n",
    "print(f\"{string1}\\n{string2}\")"
   ]
  },
  {
   "cell_type": "code",
   "execution_count": null,
   "metadata": {
    "id": "h4Xe2Gy2oInd"
   },
   "outputs": [],
   "source": []
  }
 ],
 "metadata": {
  "colab": {
   "provenance": []
  },
  "kernelspec": {
   "display_name": "Python 3",
   "language": "python",
   "name": "python3"
  },
  "language_info": {
   "codemirror_mode": {
    "name": "ipython",
    "version": 3
   },
   "file_extension": ".py",
   "mimetype": "text/x-python",
   "name": "python",
   "nbconvert_exporter": "python",
   "pygments_lexer": "ipython3",
   "version": "3.12.10"
  }
 },
 "nbformat": 4,
 "nbformat_minor": 0
}
