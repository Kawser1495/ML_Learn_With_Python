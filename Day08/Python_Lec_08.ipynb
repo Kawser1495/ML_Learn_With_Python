{
  "cells": [
    {
      "cell_type": "markdown",
      "metadata": {},
      "source": [
        "# 🗂️ Day 8: File Handling & Exception Handling in Python\n",
        "\n",
        "---\n",
        "\n",
        "## 📚 Learning Objectives\n",
        "\n",
        "By the end of this session, you will be able to:\n",
        "\n",
        "🎯 **File Operations**\n",
        "- Read and write text files using different methods\n",
        "- Handle binary files effectively\n",
        "- Understand file modes and their applications\n",
        "\n",
        "🎯 **File Path Management**\n",
        "- Navigate and manipulate file paths across different operating systems\n",
        "- Use Python's `os` module for file system operations\n",
        "- Check file/directory existence and properties\n",
        "\n",
        "🎯 **Exception Handling**\n",
        "- Understand what exceptions are and why they occur\n",
        "- Use try-except blocks to handle errors gracefully\n",
        "- Implement finally blocks for cleanup operations\n",
        "- Combine file handling with proper exception handling\n",
        "\n",
        "---\n",
        "\n",
        "## 📖 Table of Contents\n",
        "\n",
        "1. [File Operations - Reading & Writing Files](#file-operations)\n",
        "2. [Working with File Paths](#file-paths)\n",
        "3. [Exception Handling](#exception-handling)\n",
        "4. [Practical Exercises](#exercises)\n",
        "5. [Summary & Next Steps](#summary)\n",
        "\n",
        "---\n"
      ]
    },
    {
      "cell_type": "markdown",
      "metadata": {},
      "source": [
        "# 📁 File Operations - Reading & Writing Files\n",
        "\n",
        "File handling is a fundamental skill in programming! Think of it like learning to read and write documents on your computer, but through code. \n",
        "\n",
        "## 🤔 Why File Handling Matters\n",
        "\n",
        "Imagine you're building an app that needs to:\n",
        "- 💾 Save user preferences\n",
        "- 📊 Read data from spreadsheets\n",
        "- 📝 Create log files\n",
        "- 🖼️ Process images or documents\n",
        "\n",
        "All of these require file handling!\n",
        "\n",
        "---\n",
        "\n",
        "## 🔍 Understanding File Modes\n",
        "\n",
        "Before we dive in, let's understand the different ways we can open files:\n",
        "\n",
        "| Mode | Symbol | What it does | Example Use Case |\n",
        "|------|--------|--------------|------------------|\n",
        "| **Read** | `'r'` | Opens file for reading only not write | Reading a configuration file |\n",
        "| **Write** | `'w'` | Opens file for writing (overwrites existing content ) | Creating a new report |\n",
        "| **Append** | `'a'` | Opens file for writing (adds to end of file) | Adding entries to a log file |\n",
        "| **Read+Write** | `'r+'` | Opens file for both reading and writing | Updating a database file |\n",
        "| **Write+Read** | `'w+'` | Creates new file for reading and writing | Creating and immediately processing a file |\n",
        "| **Binary** | `'b'` | Used with other modes for binary files | `'rb'`, `'wb'` for images, videos |\n",
        "\n",
        "---\n"
      ]
    },
    {
      "cell_type": "markdown",
      "metadata": {},
      "source": [
        "## 📖 Reading Files\n",
        "\n",
        "### Method 1: Read the Entire File at Once\n",
        "\n",
        "This is like opening a book and reading the whole thing in one go!\n"
      ]
    },
    {
      "cell_type": "code",
      "execution_count": 4,
      "metadata": {},
      "outputs": [
        {
          "name": "stdout",
          "output_type": "stream",
          "text": [
            "✅ Sample file created successfully!\n"
          ]
        }
      ],
      "source": [
        "# First, let's create a sample file to work with\n",
        "with open('sample.txt', 'w') as file:\n",
        "    file.write(\"Hello! Welcome to Python file handling!\\n\")\n",
        "    file.write(\"This is line 2 of our sample file.\\n\")\n",
        "    file.write(\"Learning Python is fun and exciting!\\n\")\n",
        "    file.write(\"Keep practicing and you'll master it!\\n\")\n",
        "\n",
        "print(\"✅ Sample file created successfully!\")\n"
      ]
    },
    {
      "cell_type": "markdown",
      "metadata": {},
      "source": [
        "### For Make PDF file write sample.pdf"
      ]
    },
    {
      "cell_type": "code",
      "execution_count": 18,
      "metadata": {},
      "outputs": [
        {
          "name": "stdout",
          "output_type": "stream",
          "text": [
            "✅ Sample file created successfully!\n"
          ]
        }
      ],
      "source": [
        "with open('sample.pdf', 'w') as file:\n",
        "    file.write(\"Hello! Welcome to Python file handling!\\n\")\n",
        "    file.write(\"This is line 2 of our sample file.\\n\")\n",
        "    file.write(\"Learning Python is fun and exciting!\\n\")\n",
        "    file.write(\"Keep practicing and you'll master it!\\n\")\n",
        "\n",
        "print(\"✅ Sample file created successfully!\")"
      ]
    },
    {
      "cell_type": "markdown",
      "metadata": {},
      "source": [
        "### Read Symbol not write\n",
        "### For Read function there will be appare in file otherwise give error\n",
        "* like if you run sample.txt run code but if you run with samp.txt error\n",
        "* must be file appear in the code\n",
        "* But Write symbol is run the samp.txt there is not need to appear the file"
      ]
    },
    {
      "cell_type": "code",
      "execution_count": 21,
      "metadata": {},
      "outputs": [
        {
          "ename": "FileNotFoundError",
          "evalue": "[Errno 2] No such file or directory: 'samp.txt'",
          "output_type": "error",
          "traceback": [
            "\u001b[31m---------------------------------------------------------------------------\u001b[39m",
            "\u001b[31mFileNotFoundError\u001b[39m                         Traceback (most recent call last)",
            "\u001b[36mCell\u001b[39m\u001b[36m \u001b[39m\u001b[32mIn[21]\u001b[39m\u001b[32m, line 2\u001b[39m\n\u001b[32m      1\u001b[39m \u001b[38;5;66;03m# Now let's read the entire file at once\u001b[39;00m\n\u001b[32m----> \u001b[39m\u001b[32m2\u001b[39m \u001b[38;5;28;01mwith\u001b[39;00m \u001b[38;5;28;43mopen\u001b[39;49m\u001b[43m(\u001b[49m\u001b[33;43m'\u001b[39;49m\u001b[33;43msamp.txt\u001b[39;49m\u001b[33;43m'\u001b[39;49m\u001b[43m,\u001b[49m\u001b[43m \u001b[49m\u001b[33;43m'\u001b[39;49m\u001b[33;43mr\u001b[39;49m\u001b[33;43m'\u001b[39;49m\u001b[43m)\u001b[49m \u001b[38;5;28;01mas\u001b[39;00m file:\n\u001b[32m      3\u001b[39m     content = file.read()\n\u001b[32m      4\u001b[39m     \u001b[38;5;28mprint\u001b[39m(\u001b[33m\"\u001b[39m\u001b[33m📄 Complete file content:\u001b[39m\u001b[33m\"\u001b[39m)\n",
            "\u001b[36mFile \u001b[39m\u001b[32m~\\AppData\\Roaming\\Python\\Python312\\site-packages\\IPython\\core\\interactiveshell.py:343\u001b[39m, in \u001b[36m_modified_open\u001b[39m\u001b[34m(file, *args, **kwargs)\u001b[39m\n\u001b[32m    336\u001b[39m \u001b[38;5;28;01mif\u001b[39;00m file \u001b[38;5;129;01min\u001b[39;00m {\u001b[32m0\u001b[39m, \u001b[32m1\u001b[39m, \u001b[32m2\u001b[39m}:\n\u001b[32m    337\u001b[39m     \u001b[38;5;28;01mraise\u001b[39;00m \u001b[38;5;167;01mValueError\u001b[39;00m(\n\u001b[32m    338\u001b[39m         \u001b[33mf\u001b[39m\u001b[33m\"\u001b[39m\u001b[33mIPython won\u001b[39m\u001b[33m'\u001b[39m\u001b[33mt let you open fd=\u001b[39m\u001b[38;5;132;01m{\u001b[39;00mfile\u001b[38;5;132;01m}\u001b[39;00m\u001b[33m by default \u001b[39m\u001b[33m\"\u001b[39m\n\u001b[32m    339\u001b[39m         \u001b[33m\"\u001b[39m\u001b[33mas it is likely to crash IPython. If you know what you are doing, \u001b[39m\u001b[33m\"\u001b[39m\n\u001b[32m    340\u001b[39m         \u001b[33m\"\u001b[39m\u001b[33myou can use builtins\u001b[39m\u001b[33m'\u001b[39m\u001b[33m open.\u001b[39m\u001b[33m\"\u001b[39m\n\u001b[32m    341\u001b[39m     )\n\u001b[32m--> \u001b[39m\u001b[32m343\u001b[39m \u001b[38;5;28;01mreturn\u001b[39;00m \u001b[43mio_open\u001b[49m\u001b[43m(\u001b[49m\u001b[43mfile\u001b[49m\u001b[43m,\u001b[49m\u001b[43m \u001b[49m\u001b[43m*\u001b[49m\u001b[43margs\u001b[49m\u001b[43m,\u001b[49m\u001b[43m \u001b[49m\u001b[43m*\u001b[49m\u001b[43m*\u001b[49m\u001b[43mkwargs\u001b[49m\u001b[43m)\u001b[49m\n",
            "\u001b[31mFileNotFoundError\u001b[39m: [Errno 2] No such file or directory: 'samp.txt'"
          ]
        }
      ],
      "source": [
        "# Now let's read the entire file at once\n",
        "with open('samp.txt', 'r') as file:\n",
        "    content = file.read()\n",
        "    print(\"📄 Complete file content:\")\n",
        "    print(\"-\" * 30)\n",
        "    print(content)\n",
        "    print(\"-\" * 30)\n",
        "    print(f\"📊 Total characters: {len(content)}\")\n"
      ]
    },
    {
      "cell_type": "code",
      "execution_count": 23,
      "metadata": {},
      "outputs": [
        {
          "name": "stdout",
          "output_type": "stream",
          "text": [
            "📄 Complete file content:\n",
            "------------------------------\n",
            "Hello! Welcome to Python file handling!\n",
            "This is line 2 of our sample file.\n",
            "Learning Python is fun and exciting!\n",
            "Keep practicing and you'll master it!\n",
            "\n",
            "------------------------------\n",
            "📊 Total characters: 150\n"
          ]
        }
      ],
      "source": [
        "# Now let's read the entire file at once\n",
        "with open('sample.txt', 'r') as file:\n",
        "    content = file.read()\n",
        "    print(\"📄 Complete file content:\")\n",
        "    print(\"-\" * 30)\n",
        "    print(content)\n",
        "    print(\"-\" * 30)\n",
        "    print(f\"📊 Total characters: {len(content)}\")\n"
      ]
    },
    {
      "cell_type": "markdown",
      "metadata": {},
      "source": [
        "### In this read module store the sample.txt value in content"
      ]
    },
    {
      "cell_type": "code",
      "execution_count": 24,
      "metadata": {},
      "outputs": [
        {
          "name": "stdout",
          "output_type": "stream",
          "text": [
            "📄 Complete file content:\n",
            "------------------------------\n",
            "Hello! Welcome to Python file handling!\n",
            "This is line 2 of our sample file.\n",
            "Learning Python is fun and exciting!\n",
            "Keep practicing and you'll master it!\n",
            "\n",
            "------------------------------\n",
            "📊 Total characters: 150\n"
          ]
        }
      ],
      "source": [
        "# Now let's read the entire file at once\n",
        "with open('sample.txt', 'r') as file:\n",
        "    content = file.read()\n",
        "    print(\"📄 Complete file content:\")\n",
        "    print(\"-\" * 30)\n",
        "    print(content)\n",
        "    print(\"-\" * 30)\n",
        "    print(f\"📊 Total characters: {len(content)}\")\n"
      ]
    },
    {
      "cell_type": "markdown",
      "metadata": {},
      "source": [
        "### Method 2: Read Line by Line\n",
        "\n",
        "This is like reading a book one line at a time - perfect for large files!\n"
      ]
    },
    {
      "cell_type": "markdown",
      "metadata": {},
      "source": [
        "* Spilit(\" \") function use to count the word in the file\n",
        "* it only count how many space in the file counut only space code or command any symbol like *,/ inside the Split function "
      ]
    },
    {
      "cell_type": "code",
      "execution_count": 34,
      "metadata": {},
      "outputs": [
        {
          "name": "stdout",
          "output_type": "stream",
          "text": [
            "Total words: 10\n"
          ]
        }
      ],
      "source": [
        "text = \"Hello world! Welcome to Python file handling! and have fun\"\n",
        "words = text.split(\" \")\n",
        "print(f\"Total words: {len(words)}\")"
      ]
    },
    {
      "cell_type": "markdown",
      "metadata": {},
      "source": [
        "* stripe function means until reading the new line it will count 1 word or line."
      ]
    },
    {
      "cell_type": "code",
      "execution_count": 35,
      "metadata": {},
      "outputs": [
        {
          "name": "stdout",
          "output_type": "stream",
          "text": [
            "📃 Reading line by line:\n",
            "------------------------------\n",
            "Finding a new job!\n",
            "------------------------------\n",
            "💡 Notice how we process each line individually!\n"
          ]
        }
      ],
      "source": [
        "# Reading file line by line\n",
        "print(\"📃 Reading line by line:\")\n",
        "print(\"-\" * 30)\n",
        "\n",
        "with open('sample.txt', 'r') as file:\n",
        "    for line in file:\n",
        "        # strip() removes the newline character at the end\n",
        "        clean_line = line.strip()\n",
        "        print(clean_line)\n",
        "     \n",
        "print(\"-\" * 30)\n",
        "print(\"💡 Notice how we process each line individually!\")"
      ]
    },
    {
      "cell_type": "markdown",
      "metadata": {},
      "source": [
        "### Modify Code"
      ]
    },
    {
      "cell_type": "code",
      "execution_count": 36,
      "metadata": {},
      "outputs": [
        {
          "name": "stdout",
          "output_type": "stream",
          "text": [
            "📃 Reading line by line:\n",
            "------------------------------\n",
            " line number 1: Finding a new job!\n",
            "------------------------------\n",
            "💡 Notice how we process each line individually!\n"
          ]
        }
      ],
      "source": [
        "# Reading file line by line\n",
        "print(\"📃 Reading line by line:\")\n",
        "print(\"-\" * 30)\n",
        "\n",
        "with open('sample.txt', 'r') as file:\n",
        "    line_number = 1\n",
        "    for line in file:\n",
        "        # strip() removes the newline character at the end\n",
        "        clean_line = line.strip()\n",
        "        print(f\" line number {line_number}: {clean_line}\")\n",
        "        line_number += 1\n",
        "        \n",
        "        \n",
        "\n",
        "print(\"-\" * 30)\n",
        "print(\"💡 Notice how we process each line individually!\")\n"
      ]
    },
    {
      "cell_type": "markdown",
      "metadata": {},
      "source": [
        "## ✍️ Writing to Files\n",
        "\n",
        "### Method 1: Writing (Overwrite Mode)\n",
        "\n",
        "⚠️ **Important**: The `'w'` mode will completely replace the file content!\n"
      ]
    },
    {
      "cell_type": "code",
      "execution_count": 37,
      "metadata": {},
      "outputs": [
        {
          "name": "stdout",
          "output_type": "stream",
          "text": [
            "✅ New file created with write mode!\n",
            "\n",
            "📄 Content of new_file.txt:\n",
            "Hello World!\n",
            "This is a new line created with Python.\n",
            "File writing is powerful!\n",
            "\n"
          ]
        }
      ],
      "source": [
        "# Writing to a file (this will overwrite existing content)\n",
        "with open('new_file.txt', 'w') as file:\n",
        "    file.write('Hello World!\\n')\n",
        "    file.write('This is a new line created with Python.\\n')\n",
        "    file.write('File writing is powerful!\\n')\n",
        "\n",
        "print(\"✅ New file created with write mode!\")\n",
        "\n",
        "# Let's read it back to confirm\n",
        "with open('new_file.txt', 'r') as file:\n",
        "    content = file.read()\n",
        "    print(\"\\n📄 Content of new_file.txt:\")\n",
        "    print(content)\n"
      ]
    },
    {
      "cell_type": "markdown",
      "metadata": {},
      "source": [
        "### Add (Finding a new job) in Write()  format in sample .txt file\n",
        "* When Add somethig in write format it will add only update value"
      ]
    },
    {
      "cell_type": "code",
      "execution_count": 30,
      "metadata": {},
      "outputs": [],
      "source": [
        "with open('sample.txt', 'w') as file:\n",
        "    file.write(\"Finding a new job!\")"
      ]
    },
    {
      "cell_type": "markdown",
      "metadata": {},
      "source": [
        "* So we can add anything using append it will the the all value."
      ]
    },
    {
      "cell_type": "code",
      "execution_count": 38,
      "metadata": {},
      "outputs": [],
      "source": [
        "with open('sample.txt', 'a') as file:\n",
        "    file.write(\"\\n My Name Is Kawser\")\n",
        "    file.write(\"\\n I Studied in CSE\")\n",
        "    file.write(\"\\n I Want to be a Data Scientist\")\n",
        "\n",
        "    "
      ]
    },
    {
      "cell_type": "markdown",
      "metadata": {},
      "source": [
        "### Method 2: Appending to Files\n",
        "\n",
        "Think of append mode as adding new pages to the end of a book without removing existing pages!\n"
      ]
    },
    {
      "cell_type": "code",
      "execution_count": 39,
      "metadata": {},
      "outputs": [
        {
          "name": "stdout",
          "output_type": "stream",
          "text": [
            "📋 Before appending:\n",
            "Hello World!\n",
            "This is a new line created with Python.\n",
            "File writing is powerful!\n",
            "\n",
            "\n",
            "📋 After appending:\n",
            "Hello World!\n",
            "This is a new line created with Python.\n",
            "File writing is powerful!\n",
            "This line was appended!\n",
            "And so was this one!\n",
            "Append mode preserves existing content!\n",
            "\n"
          ]
        }
      ],
      "source": [
        "# Appending to a file (adds content without removing existing content)\n",
        "print(\"📋 Before appending:\")\n",
        "with open('new_file.txt', 'r') as file:\n",
        "    print(file.read())\n",
        "\n",
        "# Now let's append some content\n",
        "with open('new_file.txt', 'a') as file:\n",
        "    file.write(\"This line was appended!\\n\")\n",
        "    file.write(\"And so was this one!\\n\")\n",
        "    file.write(\"Append mode preserves existing content!\\n\")\n",
        "\n",
        "print(\"\\n📋 After appending:\")\n",
        "with open('new_file.txt', 'r') as file:\n",
        "    print(file.read())\n"
      ]
    },
    {
      "cell_type": "markdown",
      "metadata": {},
      "source": [
        "### Method 3: Writing Multiple Lines at Once\n",
        "\n",
        "Sometimes you have a list of things to write - Python makes this easy!\n",
        "* writelines take list input and add the all value which one is consistant of the list.\n"
      ]
    },
    {
      "cell_type": "markdown",
      "metadata": {},
      "source": [
        "* This code give error because it cant read unicode maybe any logo is not unicode converted so it gives error "
      ]
    },
    {
      "cell_type": "code",
      "execution_count": 40,
      "metadata": {},
      "outputs": [
        {
          "ename": "UnicodeEncodeError",
          "evalue": "'charmap' codec can't encode character '\\U0001f34e' in position 0: character maps to <undefined>",
          "output_type": "error",
          "traceback": [
            "\u001b[31m---------------------------------------------------------------------------\u001b[39m",
            "\u001b[31mUnicodeEncodeError\u001b[39m                        Traceback (most recent call last)",
            "\u001b[36mCell\u001b[39m\u001b[36m \u001b[39m\u001b[32mIn[40]\u001b[39m\u001b[32m, line 12\u001b[39m\n\u001b[32m     10\u001b[39m \u001b[38;5;66;03m# Write the shopping list to a file with UTF-8 encoding\u001b[39;00m\n\u001b[32m     11\u001b[39m \u001b[38;5;28;01mwith\u001b[39;00m \u001b[38;5;28mopen\u001b[39m(\u001b[33m\"\u001b[39m\u001b[33mshopping_list.txt\u001b[39m\u001b[33m\"\u001b[39m, \u001b[33m\"\u001b[39m\u001b[33mw\u001b[39m\u001b[33m\"\u001b[39m) \u001b[38;5;28;01mas\u001b[39;00m file:\n\u001b[32m---> \u001b[39m\u001b[32m12\u001b[39m     \u001b[43mfile\u001b[49m\u001b[43m.\u001b[49m\u001b[43mwritelines\u001b[49m\u001b[43m(\u001b[49m\u001b[43mshopping_list\u001b[49m\u001b[43m)\u001b[49m\n\u001b[32m     14\u001b[39m \u001b[38;5;28mprint\u001b[39m(\u001b[33m\"\u001b[39m\u001b[33m🛒 Shopping list created!\u001b[39m\u001b[33m\"\u001b[39m)\n",
            "\u001b[36mFile \u001b[39m\u001b[32mc:\\Users\\ktl14\\AppData\\Local\\Programs\\Python\\Python312\\Lib\\encodings\\cp1252.py:19\u001b[39m, in \u001b[36mIncrementalEncoder.encode\u001b[39m\u001b[34m(self, input, final)\u001b[39m\n\u001b[32m     18\u001b[39m \u001b[38;5;28;01mdef\u001b[39;00m\u001b[38;5;250m \u001b[39m\u001b[34mencode\u001b[39m(\u001b[38;5;28mself\u001b[39m, \u001b[38;5;28minput\u001b[39m, final=\u001b[38;5;28;01mFalse\u001b[39;00m):\n\u001b[32m---> \u001b[39m\u001b[32m19\u001b[39m     \u001b[38;5;28;01mreturn\u001b[39;00m \u001b[43mcodecs\u001b[49m\u001b[43m.\u001b[49m\u001b[43mcharmap_encode\u001b[49m\u001b[43m(\u001b[49m\u001b[38;5;28;43minput\u001b[39;49m\u001b[43m,\u001b[49m\u001b[38;5;28;43mself\u001b[39;49m\u001b[43m.\u001b[49m\u001b[43merrors\u001b[49m\u001b[43m,\u001b[49m\u001b[43mencoding_table\u001b[49m\u001b[43m)\u001b[49m[\u001b[32m0\u001b[39m]\n",
            "\u001b[31mUnicodeEncodeError\u001b[39m: 'charmap' codec can't encode character '\\U0001f34e' in position 0: character maps to <undefined>"
          ]
        }
      ],
      "source": [
        "# Writing multiple lines using a list\n",
        "shopping_list = [\n",
        "    \"🍎 Apples\\n\",\n",
        "    \"🍌 Bananas\\n\", \n",
        "    \"🥛 Milk\\n\",\n",
        "    \"🍞 Bread\\n\",\n",
        "    \"🧀 Cheese\\n\"\n",
        "]\n",
        "\n",
        "# Write the shopping list to a file with UTF-8 encoding\n",
        "with open(\"shopping_list.txt\", \"w\") as file:\n",
        "    file.writelines(shopping_list)\n",
        "\n",
        "print(\"🛒 Shopping list created!\")\n",
        "\n"
      ]
    },
    {
      "cell_type": "code",
      "execution_count": 41,
      "metadata": {},
      "outputs": [
        {
          "name": "stdout",
          "output_type": "stream",
          "text": [
            "🛒 Shopping list created!\n"
          ]
        }
      ],
      "source": [
        "# Writing multiple lines using a list\n",
        "shopping_list = [\n",
        "    \"🍎 Apples\\n\",\n",
        "    \"🍌 Bananas\\n\", \n",
        "    \"🥛 Milk\\n\",\n",
        "    \"🍞 Bread\\n\",\n",
        "    \"🧀 Cheese\\n\"\n",
        "]\n",
        "\n",
        "# Write the shopping list to a file with UTF-8 encoding\n",
        "with open(\"shopping_list.txt\", \"w\", encoding='utf-8') as file:\n",
        "    file.writelines(shopping_list)\n",
        "\n",
        "print(\"🛒 Shopping list created!\")\n",
        "\n"
      ]
    },
    {
      "cell_type": "markdown",
      "metadata": {},
      "source": [
        "## 🔢 Working with Binary Files\n",
        "\n",
        "Binary files contain data in a format that isn't human-readable (like images, videos, or executables). Let's see how to handle them:\n",
        "* wb means write as binary\n",
        "* rb means read as binary\n"
      ]
    },
    {
      "cell_type": "code",
      "execution_count": 42,
      "metadata": {},
      "outputs": [
        {
          "name": "stdout",
          "output_type": "stream",
          "text": [
            "🔢 Working with binary files:\n",
            "✅ Binary file created!\n"
          ]
        }
      ],
      "source": [
        "# Working with binary data\n",
        "print(\"🔢 Working with binary files:\")\n",
        "\n",
        "# Creating some binary data (these are raw bytes)\n",
        "binary_data = b\"Hello\"  # This spells \"Hello\" in ASCII\n",
        "\n",
        "# Writing to a binary file\n",
        "with open('example.bin', 'wb') as file:\n",
        "    file.write(binary_data)\n",
        "\n",
        "print(\"✅ Binary file created!\")\n",
        "\n",
        "# # Reading from a binary file\n",
        "# with open('example.bin', 'rb') as file:\n",
        "#     content = file.read()\n",
        "#     print(f\"📊 Binary content: {content}\")\n",
        "#     print(f\"📝 Decoded as text: {content.decode('ascii')}\")\n",
        "#     print(f\"📏 Size: {len(content)} bytes\")\n"
      ]
    },
    {
      "cell_type": "markdown",
      "metadata": {},
      "source": [
        "## 🔄 Advanced File Operations\n",
        "\n",
        "### File Copying Made Easy\n"
      ]
    },
    {
      "cell_type": "code",
      "execution_count": 43,
      "metadata": {},
      "outputs": [
        {
          "name": "stdout",
          "output_type": "stream",
          "text": [
            "📋 File copying example:\n",
            "✅ File copied successfully!\n"
          ]
        }
      ],
      "source": [
        "# Copying a file from source to destination\n",
        "print(\"📋 File copying example:\")\n",
        "\n",
        "# Read from source file\n",
        "with open('sample.txt', 'r') as source_file:\n",
        "    content = source_file.read()\n",
        "\n",
        "# Write to destination file\n",
        "with open('backup_sample.txt', 'w') as destination_file:\n",
        "    destination_file.write(content)\n",
        "\n",
        "print(\"✅ File copied successfully!\")\n"
      ]
    },
    {
      "cell_type": "markdown",
      "metadata": {},
      "source": [
        "The difference here is that r+ opens a file for reading and writing (the file must exist), while w+ opens a file for writing and reading, but it truncates the file if it already exists (or creates it if it doesn’t).\n",
        "* r+ allows you to read and modify the existing source file if needed.\n",
        "* w+ allows you to write and read the destination file but will erase its contents first."
      ]
    },
    {
      "cell_type": "code",
      "execution_count": 66,
      "metadata": {},
      "outputs": [
        {
          "name": "stdout",
          "output_type": "stream",
          "text": [
            "Step 1: r+ mode (read only)\n",
            "Original content:\n",
            " UpUpdated content in r+\n",
            "ame Is Kawser\n",
            " I Studied in CSE\n",
            " I Want to be a Data Scientist\n",
            "My Name Is Kawser\n",
            "I Studied in CSE\n",
            "I Want to be a Data Scientist\n",
            "\n",
            "Step 2: Append mode (add more content)\n",
            "\n",
            "After append:\n",
            " UpUpdated content in r+\n",
            "ame Is Kawser\n",
            " I Studied in CSE\n",
            " I Want to be a Data Scientist\n",
            "My Name Is Kawser\n",
            "I Studied in CSE\n",
            "I Want to be a Data ScientistMy Name Is Kawser\n",
            "I Studied in CSE\n",
            "I Want to be a Data Scientist\n",
            "This line was appended!\n",
            "And so was this one!\n",
            "Append mode preserves existing content!\n",
            "\n"
          ]
        }
      ],
      "source": [
        "# 📋 Example using r+ for reading and append for adding content\n",
        "print(\"Step 1: r+ mode (read only)\")\n",
        "\n",
        "# Open existing file in r+ mode (read and write)\n",
        "with open('sample.txt', 'r+') as file:\n",
        "    content = file.read()  # Read current content\n",
        "    print(\"Original content:\\n\", content)\n",
        "\n",
        "# Step 2: Append more lines without using seek\n",
        "print(\"\\nStep 2: Append mode (add more content)\")\n",
        "\n",
        "with open('sample.txt', 'a') as file:\n",
        "    file.write(\"My Name Is Kawser\\n\")\n",
        "    file.write(\"I Studied in CSE\\n\")\n",
        "    file.write(\"I Want to be a Data Scientist\\n\")\n",
        "    file.write(\"This line was appended!\\n\")\n",
        "    file.write(\"And so was this one!\\n\")\n",
        "    file.write(\"Append mode preserves existing content!\\n\")\n",
        "\n",
        "# Verify the file after appending\n",
        "with open('sample.txt', 'r') as file:\n",
        "    print(\"\\nAfter append:\\n\", file.read())\n"
      ]
    },
    {
      "cell_type": "code",
      "execution_count": 69,
      "metadata": {},
      "outputs": [
        {
          "name": "stdout",
          "output_type": "stream",
          "text": [
            "Step 1: w+ mode (read only)\n",
            "Original content:\n",
            " \n",
            "\n",
            "Step 2: Append mode (add more content)\n",
            "\n",
            "After append:\n",
            " My Name Is Kawser\n",
            "I Studied in CSE\n",
            "I Want to be a Data Scientist\n",
            "This line was appended!\n",
            "And so was this one!\n",
            "Append mode preserves existing content!\n",
            "\n"
          ]
        }
      ],
      "source": [
        "# 📋 Example using w+ for reading and append for adding content\n",
        "print(\"Step 1: w+ mode (read only)\")\n",
        "\n",
        "# Open existing file in w+ mode (read and write)\n",
        "with open('sample.txt', 'w+') as file:\n",
        "    content = file.read()  # Read current content\n",
        "    print(\"Original content:\\n\", content)\n",
        "\n",
        "# Step 2: Append more lines without using seek\n",
        "print(\"\\nStep 2: Append mode (add more content)\")\n",
        "\n",
        "with open('sample.txt', 'a') as file:\n",
        "    file.write(\"My Name Is Kawser\\n\")\n",
        "    file.write(\"I Studied in CSE\\n\")\n",
        "    file.write(\"I Want to be a Data Scientist\\n\")\n",
        "    file.write(\"This line was appended!\\n\")\n",
        "    file.write(\"And so was this one!\\n\")\n",
        "    file.write(\"Append mode preserves existing content!\\n\")\n",
        "\n",
        "# Verify the file after appending\n",
        "with open('sample.txt', 'r') as file:\n",
        "    print(\"\\nAfter append:\\n\", file.read())\n"
      ]
    },
    {
      "cell_type": "code",
      "execution_count": 86,
      "metadata": {},
      "outputs": [
        {
          "name": "stdout",
          "output_type": "stream",
          "text": [
            "📋 File copying example with r+ and w+\n",
            "✅ File copied successfully!\n"
          ]
        }
      ],
      "source": [
        "# 📋 File copying using r+ and w+\n",
        "print(\"📋 File copying example with r+ and w+\")\n",
        "\n",
        "# Open source file in r+ mode (read/write, file must exist)\n",
        "with open('sample.txt', 'r+') as source_file:\n",
        "    content = source_file.read()  # Read the content\n",
        "\n",
        "# Open destination file in w+ mode (write/read, creates if doesn't exist)\n",
        "with open('backup_sample.txt', 'w+') as destination_file:\n",
        "    destination_file.write(content)  # Write the content\n",
        "\n",
        "print(\"✅ File copied successfully!\")\n"
      ]
    },
    {
      "cell_type": "markdown",
      "metadata": {},
      "source": [
        "### Now , We can insert as like change the cursor position and append the code\n",
        "* because directly insert function is not available"
      ]
    },
    {
      "cell_type": "markdown",
      "metadata": {},
      "source": [
        "### File Statistics Function\n",
        "\n",
        "Let's create a function that analyzes text files - this is super useful for data analysis!\n"
      ]
    },
    {
      "cell_type": "code",
      "execution_count": 123,
      "metadata": {},
      "outputs": [
        {
          "name": "stdout",
          "output_type": "stream",
          "text": [
            "['My Name Is Kawser\\n', 'I Studied in CSE\\n', 'I Want to be a Data Scientist\\n', 'This line was appended!\\n', 'And so was this one!\\n', 'Append mode preserves existing content!\\n']\n"
          ]
        }
      ],
      "source": [
        "def analyze_text_file(file_path):\n",
        "    \"\"\"\n",
        "    Analyzes a text file and returns statistics about it.\n",
        "    \n",
        "    Args:\n",
        "        file_path (str): Path to the text file\n",
        "        \n",
        "    Returns:\n",
        "        tuple: (line_count, word_count, character_count)\n",
        "    \"\"\"\n",
        "    \n",
        "    with open(file_path, 'r', encoding='utf-8') as file:\n",
        "        lines=file.readlines()\n",
        "        print(lines)\n",
        "analyze_text_file('sample.txt')\n",
        "        "
      ]
    },
    {
      "cell_type": "markdown",
      "metadata": {},
      "source": [
        "#### For find Line_count called len function"
      ]
    },
    {
      "cell_type": "code",
      "execution_count": 90,
      "metadata": {},
      "outputs": [
        {
          "name": "stdout",
          "output_type": "stream",
          "text": [
            "6\n"
          ]
        }
      ],
      "source": [
        "def analyze_text_file(file_path):\n",
        "    \"\"\"\n",
        "    Analyzes a text file and returns statistics about it.\n",
        "    \n",
        "    Args:\n",
        "        file_path (str): Path to the text file\n",
        "        \n",
        "    Returns:\n",
        "        tuple: (line_count, word_count, character_count)\n",
        "    \"\"\"\n",
        "    \n",
        "    with open(file_path, 'r', encoding='utf-8') as file:\n",
        "        lines=file.readlines()\n",
        "        print(len(lines))\n",
        "analyze_text_file('sample.txt')\n",
        "        "
      ]
    },
    {
      "cell_type": "markdown",
      "metadata": {},
      "source": [
        "#### For find word_count called spilit function\n",
        "* words=line.split(\" \") here variable words is list type"
      ]
    },
    {
      "cell_type": "code",
      "execution_count": 115,
      "metadata": {},
      "outputs": [
        {
          "name": "stdout",
          "output_type": "stream",
          "text": [
            "Total Line:6\n",
            "4\n",
            "4\n",
            "7\n",
            "4\n",
            "5\n",
            "5\n"
          ]
        }
      ],
      "source": [
        "def analyze_text_file(file_path):\n",
        "    \"\"\"\n",
        "    Analyzes a text file and returns statistics about it.\n",
        "    \n",
        "    Args:\n",
        "        file_path (str): Path to the text file\n",
        "        \n",
        "    Returns:\n",
        "        tuple: (line_count, word_count, character_count)\n",
        "    \"\"\"\n",
        "    \n",
        "    with open(file_path, 'r', encoding='utf-8') as file:\n",
        "        lines=file.readlines()\n",
        "        print(f\"Total Line:{len(lines)}\")\n",
        "        for line in lines:\n",
        "            words=line.split(\" \")\n",
        "            print(len(words))\n",
        "analyze_text_file('sample.txt')\n",
        "        "
      ]
    },
    {
      "cell_type": "markdown",
      "metadata": {},
      "source": [
        "#### Find total Word"
      ]
    },
    {
      "cell_type": "code",
      "execution_count": 167,
      "metadata": {},
      "outputs": [
        {
          "name": "stdout",
          "output_type": "stream",
          "text": [
            "Lines: 6, Words: 29\n"
          ]
        }
      ],
      "source": [
        "def analyze_text_file(file_path):\n",
        "    \"\"\"\n",
        "    Analyzes a text file and returns statistics about it.\n",
        "    \n",
        "    Args:\n",
        "        file_path (str): Path to the text file\n",
        "        \n",
        "    Returns:\n",
        "        tuple: (line_count, word_count, character_count)\n",
        "    \"\"\"\n",
        "    \n",
        "    with open(file_path, 'r', encoding='utf-8') as file:\n",
        "        total_words = 0\n",
        "        total_characters = 0\n",
        "        \n",
        "        lines =file.readlines()\n",
        "        \n",
        "        total_lines = len(lines)\n",
        "        \n",
        "        for line in lines:\n",
        "            total_words += len(line.split())\n",
        "\n",
        "            \n",
        "    print(f\"Lines: {total_lines}, Words: {total_words}\")\n",
        "analyze_text_file('sample.txt')\n",
        "        "
      ]
    },
    {
      "cell_type": "markdown",
      "metadata": {},
      "source": [
        "#### find Total Character"
      ]
    },
    {
      "cell_type": "code",
      "execution_count": 172,
      "metadata": {},
      "outputs": [
        {
          "name": "stdout",
          "output_type": "stream",
          "text": [
            "Lines: 6, Words: 0, characters:150\n"
          ]
        }
      ],
      "source": [
        "def analyze_text_file(file_path):\n",
        "    \"\"\"\n",
        "    Analyzes a text file and returns statistics about it.\n",
        "    \n",
        "    Args:\n",
        "        file_path (str): Path to the text file\n",
        "        \n",
        "    Returns:\n",
        "        tuple: (line_count, word_count, character_count)\n",
        "    \"\"\"\n",
        "    \n",
        "    with open(file_path, 'r', encoding='utf-8') as file:\n",
        "        total_words =0\n",
        "        total_characters = 0\n",
        "        \n",
        "        lines =file.readlines()\n",
        "        \n",
        "        total_lines = len(lines)\n",
        "        \n",
        "        for line in lines:\n",
        "            \n",
        "            total_characters += len(line)\n",
        "            \n",
        "\n",
        "            \n",
        "    print(f\"Lines: {total_lines}, Words: {total_words}, characters:{total_characters}\")\n",
        "analyze_text_file('sample.txt')\n",
        "        "
      ]
    },
    {
      "cell_type": "markdown",
      "metadata": {},
      "source": [
        "####  When We call the resurn function we cant called the print function"
      ]
    },
    {
      "cell_type": "code",
      "execution_count": 173,
      "metadata": {},
      "outputs": [
        {
          "name": "stdout",
          "output_type": "stream",
          "text": [
            "Total lines: 6, Total words: 29, Total characters: 150\n"
          ]
        }
      ],
      "source": [
        "# Create a function to analyze text files\n",
        "def analyze_text_file(file_path):\n",
        "    \"\"\"\n",
        "    Analyzes a text file and returns statistics about it.\n",
        "    \n",
        "    Args:\n",
        "        file_path (str): Path to the text file\n",
        "        \n",
        "    Returns:\n",
        "        tuple: (line_count, word_count, character_count)\n",
        "    \"\"\"\n",
        "    \n",
        "    with open(file_path, 'r', encoding='utf-8') as file:\n",
        "        total_words = 0\n",
        "        total_characters = 0\n",
        "        \n",
        "        lines =file.readlines()\n",
        "        \n",
        "        total_lines = len(lines)\n",
        "        \n",
        "        for line in lines:\n",
        "            total_words += len(line.split())\n",
        "            total_characters += len(line)\n",
        "        \n",
        "    return total_lines, total_words, total_characters\n",
        "        \n",
        "line, word, character = analyze_text_file('sample.txt')\n",
        "print(f\"Total lines: {line}, Total words: {word}, Total characters: {character}\")"
      ]
    },
    {
      "cell_type": "code",
      "execution_count": null,
      "metadata": {},
      "outputs": [],
      "source": [
        "# Copy Path \n",
        "E:\\ML_Learn_With_Python\\Day08\\Python_Lec_08.ipynb\n",
        "# Copy relative path\n",
        "Day08\\Python_Lec_08.ipynb"
      ]
    },
    {
      "cell_type": "markdown",
      "metadata": {},
      "source": [
        "### Read and Write Mode (w+)\n",
        "\n",
        "The `w+` mode is special - it creates a new file for both reading and writing!\n",
        "* seek means where cursor was located and move the curser in the start\n",
        "* file tell means where is it or which number position have a cursor\n"
      ]
    },
    {
      "cell_type": "code",
      "execution_count": 174,
      "metadata": {},
      "outputs": [
        {
          "name": "stdout",
          "output_type": "stream",
          "text": [
            "📝 Demonstrating w+ mode:\n",
            "✅ Content written to file\n",
            "\n",
            "📄 Content we just wrote:\n",
            "Hello from w+ mode! 🚀\n",
            "We can write and read in the same operation.\n",
            "This is pretty cool! 😎\n",
            "\n",
            "📍 Current cursor position: 99\n",
            "\n",
            "💡 The w+ mode is perfect when you need to create, write, and immediately process a file!\n"
          ]
        }
      ],
      "source": [
        "# Using w+ mode for reading and writing\n",
        "print(\"📝 Demonstrating w+ mode:\")\n",
        "\n",
        "with open('temp_file.txt', 'w+', encoding=\"utf-8\") as file:\n",
        "    # First, let's write some content\n",
        "    file.write(\"Hello from w+ mode! 🚀\\n\")\n",
        "    file.write(\"We can write and read in the same operation.\\n\")\n",
        "    file.write(\"This is pretty cool! 😎\\n\")\n",
        "    \n",
        "    print(\"✅ Content written to file\")\n",
        "    \n",
        "    # Move the file cursor to the beginning to read\n",
        "    file.seek(0)  # This is crucial - moves cursor to start\n",
        "    \n",
        "    # Now read the content we just wrote\n",
        "    content = file.read()\n",
        "    print(\"\\n📄 Content we just wrote:\")\n",
        "    print(content)\n",
        "    \n",
        "    # Let's also check the current cursor position\n",
        "    print(f\"📍 Current cursor position: {file.tell()}\")\n",
        "\n",
        "print(\"\\n💡 The w+ mode is perfect when you need to create, write, and immediately process a file!\")\n"
      ]
    },
    {
      "cell_type": "markdown",
      "metadata": {},
      "source": [
        "# 🗺️ Working with File Paths\n",
        "\n",
        "Think of file paths like addresses for your files! Just like you need an address to find a house, you need a path to find a file on your computer.\n",
        "\n",
        "## 🌐 Why File Paths Matter\n",
        "\n",
        "Different operating systems handle paths differently:\n",
        "- **Windows**: Uses backslashes `\\` (e.g., `C:\\Users\\John\\Documents\\file.txt`)\n",
        "- **Mac/Linux**: Uses forward slashes `/` (e.g., `/home/john/documents/file.txt`)\n",
        "\n",
        " now i will done this code windows but linux user use how to solve?\n",
        " \n",
        " then we are use r like for windows user path (E:\\ML_Learn_With_Python\\Day08\\Python_Lec_08.ipynb)\n",
        "\n",
        " Linux User Path (r\"E:\\ML_Learn_With_Python\\Day08\\Python_Lec_08.ipynb)\"\n",
        "\n",
        "Python's `os` module helps us work with paths in a way that works on all operating systems! 🎯\n",
        "\n",
        "---\n"
      ]
    },
    {
      "cell_type": "code",
      "execution_count": 195,
      "metadata": {},
      "outputs": [
        {
          "name": "stdout",
          "output_type": "stream",
          "text": [
            "Hi,I am Kawser Talukder.\n"
          ]
        }
      ],
      "source": [
        "with open(r'E:\\ML_Learn_With_Python\\test.txt', 'r') as file:\n",
        "    print(file.read())\n",
        "\n"
      ]
    },
    {
      "cell_type": "markdown",
      "metadata": {},
      "source": [
        "### Code execute file how we get?"
      ]
    },
    {
      "cell_type": "code",
      "execution_count": 199,
      "metadata": {},
      "outputs": [
        {
          "name": "stdout",
          "output_type": "stream",
          "text": [
            "e:\\ML_Learn_With_Python\\Day08\n"
          ]
        }
      ],
      "source": [
        "import os\n",
        "print(os.getcwd())"
      ]
    },
    {
      "cell_type": "markdown",
      "metadata": {},
      "source": [
        "## 📍 Finding Your Current Location\n"
      ]
    },
    {
      "cell_type": "markdown",
      "metadata": {},
      "source": [
        "#### Difference between os.sep and \\\\ os.sep os independent run both windoes and linux\n",
        "#### But \\\\ only support windoes"
      ]
    },
    {
      "cell_type": "code",
      "execution_count": 206,
      "metadata": {},
      "outputs": [
        {
          "name": "stdout",
          "output_type": "stream",
          "text": [
            "📂 Current working directory: e:\\ML_Learn_With_Python\\Day08\n",
            "🗂️ Directory parts: ['e:', 'ML_Learn_With_Python', 'Day08']\n",
            "🗂️ Directory parts: ['e:', 'ML_Learn_With_Python', 'Day08']\n"
          ]
        }
      ],
      "source": [
        "import os\n",
        "\n",
        "# Get the current working directory (where your Python script is running)\n",
        "current_directory = os.getcwd()\n",
        "print(f\"📂 Current working directory: {current_directory}\")\n",
        "\n",
        "# This is like asking \"Where am I right now?\" in the file system\n",
        "print(f\"🗂️ Directory parts: {current_directory.split(os.sep)}\")\n",
        "# or use this code\n",
        "print(f\"🗂️ Directory parts: {current_directory.split('\\\\')}\")\n"
      ]
    },
    {
      "cell_type": "markdown",
      "metadata": {},
      "source": [
        "## 📁 Creating Directories\n",
        "\n",
        "Let's create some folders to organize our files!\n"
      ]
    },
    {
      "cell_type": "code",
      "execution_count": null,
      "metadata": {},
      "outputs": [],
      "source": [
        "# Create a new directory\n",
        "os.mkdir(\"my_python_files\")\n"
      ]
    },
    {
      "cell_type": "markdown",
      "metadata": {},
      "source": [
        "* nested directory join the folder if folder is appear the file then join them otherwise mkdir frist creat file then join them."
      ]
    },
    {
      "cell_type": "code",
      "execution_count": 212,
      "metadata": {},
      "outputs": [],
      "source": [
        "# Let's also create a nested directory structure\n",
        "nested_path = os.path.join(\"my_python_files\", \"projects\", \"DummyProject\")\n",
        "os.makedirs(nested_path, exist_ok=True)"
      ]
    },
    {
      "cell_type": "markdown",
      "metadata": {},
      "source": [
        "## 📋 Listing Directory Contents\n",
        "\n",
        "Let's explore what's inside our directories!\n"
      ]
    },
    {
      "cell_type": "markdown",
      "metadata": {},
      "source": [
        "#### Show the all folder and file name "
      ]
    },
    {
      "cell_type": "code",
      "execution_count": 215,
      "metadata": {},
      "outputs": [
        {
          "name": "stdout",
          "output_type": "stream",
          "text": [
            "📋 Contents of current directory:\n",
            "----------------------------------------\n",
            "['backup_sample.txt', 'example.bin', 'Folder01', 'Folder02', 'my_python_files', 'new_file.txt', 'Python_Lec_08.ipynb', 'sample.pdf', 'sample.txt', 'shopping_list.txt', 'temp_file.txt']\n"
          ]
        }
      ],
      "source": [
        "# List all files and directories in the current directory\n",
        "items = os.listdir('.')\n",
        "print(\"📋 Contents of current directory:\")\n",
        "print(\"-\" * 40)\n",
        "print(items)"
      ]
    },
    {
      "cell_type": "markdown",
      "metadata": {},
      "source": [
        "#### Find total folder and file count"
      ]
    },
    {
      "cell_type": "markdown",
      "metadata": {},
      "source": [
        "* isfile return true or false \n",
        "* isdir return true or false"
      ]
    },
    {
      "cell_type": "code",
      "execution_count": 216,
      "metadata": {},
      "outputs": [
        {
          "name": "stdout",
          "output_type": "stream",
          "text": [
            "8\n",
            "3\n"
          ]
        }
      ],
      "source": [
        "\n",
        "\n",
        "\n",
        "# Count files vs directories\n",
        "print(len([item for item in items if os.path.isfile(item)])) \n",
        "print(len([item for item in items if os.path.isdir(item)]))\n"
      ]
    },
    {
      "cell_type": "markdown",
      "metadata": {},
      "source": [
        "## 🔗 Joining Paths Safely\n",
        "\n",
        "The `os.path.join()` function is your best friend for creating file paths that work on any operating system!\n"
      ]
    },
    {
      "cell_type": "code",
      "execution_count": 217,
      "metadata": {},
      "outputs": [
        {
          "name": "stdout",
          "output_type": "stream",
          "text": [
            "🔗 Path joining examples:\n",
            "==================================================\n",
            "📁 + 📄 = documents\\report.txt\n",
            "🗂️ Multi-level path: projects\\python\\day7\\exercises\\solution.py\n",
            "🏠 Full absolute path: e:\\ML_Learn_With_Python\\Day08\\documents\\report.txt\n",
            "📊 Data file path: user_data\\2024\\march\\sales.csv\n",
            "==================================================\n",
            "💡 Notice how os.path.join() automatically uses the correct separator for your OS!\n"
          ]
        }
      ],
      "source": [
        "# Joining paths the right way\n",
        "print(\"🔗 Path joining examples:\")\n",
        "print(\"=\" * 50)\n",
        "\n",
        "# Basic path joining\n",
        "folder_name = \"documents\"\n",
        "file_name = \"report.txt\"\n",
        "full_path = os.path.join(folder_name, file_name)\n",
        "print(f\"📁 + 📄 = {full_path}\")\n",
        "\n",
        "# Multiple level path joining\n",
        "project_path = os.path.join(\"projects\", \"python\", \"day7\", \"exercises\", \"solution.py\")\n",
        "print(f\"🗂️ Multi-level path: {project_path}\")\n",
        "\n",
        "# Joining with current directory\n",
        "current_file_path = os.path.join(os.getcwd(), folder_name, file_name)\n",
        "print(f\"🏠 Full absolute path: {current_file_path}\")\n",
        "\n",
        "# Working with different path components\n",
        "user_folder = \"user_data\"\n",
        "year = \"2024\"\n",
        "month = \"march\"\n",
        "data_file = \"sales.csv\"\n",
        "\n",
        "data_path = os.path.join(user_folder, year, month, data_file)\n",
        "print(f\"📊 Data file path: {data_path}\")\n",
        "\n",
        "print(\"=\" * 50)\n",
        "print(\"💡 Notice how os.path.join() automatically uses the correct separator for your OS!\")\n"
      ]
    },
    {
      "cell_type": "markdown",
      "metadata": {},
      "source": [
        "## 🔍 Checking if Files and Directories Exist\n",
        "\n",
        "Before trying to work with a file, it's always good to check if it exists first!\n"
      ]
    },
    {
      "cell_type": "code",
      "execution_count": 218,
      "metadata": {},
      "outputs": [
        {
          "name": "stdout",
          "output_type": "stream",
          "text": [
            "🔍 Path existence checking:\n",
            "========================================\n",
            "✅ 📄 'sample.txt' is a file (156 bytes)\n",
            "❌ 'nonexistent.txt' does not exist\n",
            "✅ 📁 'my_python_files' is a directory (1 items)\n",
            "❌ 'imaginary_folder' does not exist\n",
            "✅ 📁 'e:\\ML_Learn_With_Python\\Day08' is a directory (11 items)\n",
            "========================================\n"
          ]
        }
      ],
      "source": [
        "# Checking if paths exist\n",
        "print(\"🔍 Path existence checking:\")\n",
        "print(\"=\" * 40)\n",
        "\n",
        "# List of paths to check\n",
        "paths_to_check = [\n",
        "    'sample.txt',           # Should exist (we created it)\n",
        "    'nonexistent.txt',      # Doesn't exist\n",
        "    'my_python_files',      # Directory we created\n",
        "    'imaginary_folder',     # Doesn't exist\n",
        "    os.getcwd()            # Current directory (definitely exists)\n",
        "]\n",
        "\n",
        "for path in paths_to_check:\n",
        "    if os.path.exists(path):\n",
        "        if os.path.isfile(path):\n",
        "            size = os.path.getsize(path)\n",
        "            print(f\"✅ 📄 '{path}' is a file ({size} bytes)\")\n",
        "        elif os.path.isdir(path):\n",
        "            items_count = len(os.listdir(path))\n",
        "            print(f\"✅ 📁 '{path}' is a directory ({items_count} items)\")\n",
        "        else:\n",
        "            print(f\"✅ ❓ '{path}' exists but is neither file nor directory\")\n",
        "    else:\n",
        "        print(f\"❌ '{path}' does not exist\")\n",
        "\n",
        "print(\"=\" * 40)"
      ]
    },
    {
      "cell_type": "markdown",
      "metadata": {},
      "source": [
        "## 🗺️ Working with Absolute Paths\n",
        "\n",
        "Absolute paths tell you the complete address of a file from the root of your file system.\n"
      ]
    },
    {
      "cell_type": "code",
      "execution_count": 3,
      "metadata": {},
      "outputs": [
        {
          "name": "stdout",
          "output_type": "stream",
          "text": [
            "🗺️ Absolute Path Examples:\n",
            "============================================================\n",
            "📍 Relative path: sampless.txt\n",
            "🌍 Absolute path: d:\\Temp\\MLOB1\\Sessions\\Day7\\sampless.txt\n",
            "📏 Path length: 40 characters\n"
          ]
        }
      ],
      "source": [
        "import os\n",
        "# Working with absolute paths\n",
        "print(\"🗺️ Absolute Path Examples:\")\n",
        "print(\"=\" * 60)\n",
        "\n",
        "# Convert relative path to absolute path\n",
        "relative_path = 'sampless.txt'\n",
        "absolute_path = os.path.abspath(relative_path)\n",
        "\n",
        "print(f\"📍 Relative path: {relative_path}\")\n",
        "print(f\"🌍 Absolute path: {absolute_path}\")\n",
        "print(f\"📏 Path length: {len(absolute_path)} characters\")\n"
      ]
    },
    {
      "cell_type": "markdown",
      "metadata": {},
      "source": [
        "# 🚨 Exception Handling in Python\n",
        "\n",
        "Imagine you're driving a car. Sometimes unexpected things happen - a tire goes flat, you run out of gas, or there's construction on your route. Exception handling in Python is like having a plan for these unexpected situations!\n",
        "\n",
        "## 🤔 What Are Exceptions?\n",
        "\n",
        "Exceptions are Python's way of saying \"Something unexpected happened!\" Instead of your program crashing, exceptions allow you to handle these situations gracefully.\n",
        "\n",
        "## 🎯 Common Exception Types\n",
        "\n",
        "| Exception | What Causes It | Example |\n",
        "|-----------|----------------|---------|\n",
        "| `NameError` | Using a variable that doesn't exist | `print(undefined_variable)` |\n",
        "| `ZeroDivisionError` | Dividing by zero | `result = 10 / 0` |\n",
        "| `FileNotFoundError` | Trying to open a file that doesn't exist | `open('missing.txt')` |\n",
        "| `ValueError` | Wrong type of value | `int('hello')` |\n",
        "| `TypeError` | Wrong data type | `'text' + 5` |\n",
        "| `IndexError` | List index out of range | `my_list[999]` |\n",
        "\n",
        "---\n"
      ]
    },
    {
      "cell_type": "markdown",
      "metadata": {},
      "source": [
        "## 🛡️ Basic Exception Handling: try-except\n",
        "\n",
        "The `try-except` block is like having a safety net for your code!\n"
      ]
    },
    {
      "cell_type": "code",
      "execution_count": null,
      "metadata": {},
      "outputs": [],
      "source": [
        " undefined_variable = 10"
      ]
    },
    {
      "cell_type": "code",
      "execution_count": null,
      "metadata": {},
      "outputs": [],
      "source": [
        " result = undefined_variable"
      ]
    },
    {
      "cell_type": "code",
      "execution_count": 4,
      "metadata": {},
      "outputs": [
        {
          "data": {
            "text/plain": [
              "10"
            ]
          },
          "execution_count": 4,
          "metadata": {},
          "output_type": "execute_result"
        }
      ],
      "source": [
        "result"
      ]
    },
    {
      "cell_type": "markdown",
      "metadata": {},
      "source": [
        "### If we are not define it gives error so solve it using try-except"
      ]
    },
    {
      "cell_type": "code",
      "execution_count": 5,
      "metadata": {},
      "outputs": [
        {
          "ename": "NameError",
          "evalue": "name 'undefined_' is not defined",
          "output_type": "error",
          "traceback": [
            "\u001b[31m---------------------------------------------------------------------------\u001b[39m",
            "\u001b[31mNameError\u001b[39m                                 Traceback (most recent call last)",
            "\u001b[36mCell\u001b[39m\u001b[36m \u001b[39m\u001b[32mIn[5]\u001b[39m\u001b[32m, line 2\u001b[39m\n\u001b[32m      1\u001b[39m \u001b[38;5;66;03m# Error \u001b[39;00m\n\u001b[32m----> \u001b[39m\u001b[32m2\u001b[39m \u001b[43mundefined_\u001b[49m\n",
            "\u001b[31mNameError\u001b[39m: name 'undefined_' is not defined"
          ]
        }
      ],
      "source": [
        "# Error \n",
        "undefined_"
      ]
    },
    {
      "cell_type": "code",
      "execution_count": 8,
      "metadata": {},
      "outputs": [
        {
          "name": "stdout",
          "output_type": "stream",
          "text": [
            "🛡️ Basic Exception Handling Examples:\n",
            "==================================================\n",
            "This line won't execute\n",
            "🎉 The program continues after the exception!\n",
            "==================================================\n"
          ]
        }
      ],
      "source": [
        "# Example 1: Basic exception handling\n",
        "print(\"🛡️ Basic Exception Handling Examples:\")\n",
        "print(\"=\" * 50)\n",
        "\n",
        "try:\n",
        "    # This will cause a NameError\n",
        "    result = undefined_variable\n",
        "    print(\"This line won't execute\")\n",
        "except:\n",
        "    print(\"🚨 Caught an exception! The program continues running.\")\n",
        "\n",
        "print(\"🎉 The program continues after the exception!\")\n",
        "print(\"=\" * 50)\n"
      ]
    },
    {
      "cell_type": "markdown",
      "metadata": {},
      "source": [
        "## 🎯 Specific Exception Handling\n",
        "\n",
        "It's better to catch specific exceptions so you know exactly what went wrong!\n"
      ]
    },
    {
      "cell_type": "code",
      "execution_count": 29,
      "metadata": {},
      "outputs": [],
      "source": [
        "result = undefined_variable"
      ]
    },
    {
      "cell_type": "code",
      "execution_count": 30,
      "metadata": {},
      "outputs": [
        {
          "name": "stdout",
          "output_type": "stream",
          "text": [
            "🎯 Specific Exception Handling:\n"
          ]
        }
      ],
      "source": [
        "# Example 2: Catching specific exceptions\n",
        "print(\"🎯 Specific Exception Handling:\")\n",
        "\n",
        "# Example 1: NameError\n",
        "try:\n",
        "    result = undefined_variable\n",
        "except NameError:\n",
        "    print(\"❌ Variable doesn't exist!\")\n",
        "except FileExistsError:\n",
        "    print(\"❌ File operation error!\")"
      ]
    },
    {
      "cell_type": "code",
      "execution_count": 31,
      "metadata": {},
      "outputs": [
        {
          "name": "stdout",
          "output_type": "stream",
          "text": [
            "❌ Can't divide by zero!\n"
          ]
        }
      ],
      "source": [
        "# Example 2: ZeroDivisionError\n",
        "try:\n",
        "    result = 10 / 0\n",
        "except ZeroDivisionError:\n",
        "    print(\"❌ Can't divide by zero!\")\n"
      ]
    },
    {
      "cell_type": "code",
      "execution_count": null,
      "metadata": {},
      "outputs": [],
      "source": [
        "\n",
        "# Example 3: Multiple exceptions\n",
        "try:\n",
        "    number = int(input(\"Enter a number: \"))\n",
        "    result = 10 / number\n",
        "    print(f\"Result: {result}\")\n",
        "except ValueError:\n",
        "    print(\"❌ That's not a valid number!\")\n",
        "except ZeroDivisionError:\n",
        "    print(\"❌ Can't divide by zero!\")\n"
      ]
    },
    {
      "cell_type": "markdown",
      "metadata": {},
      "source": [
        "## 🎊 The try-except-else Block\n",
        "\n",
        "The `else` block runs only if NO exceptions occurred - it's like saying \"If everything went well, then do this!\"\n"
      ]
    },
    {
      "cell_type": "code",
      "execution_count": 32,
      "metadata": {},
      "outputs": [
        {
          "name": "stdout",
          "output_type": "stream",
          "text": [
            "✅ Success! Result is 5.0\n"
          ]
        }
      ],
      "source": [
        "# Example 3: try-except-else block\n",
        "try:\n",
        "    result = 10 / int(input())\n",
        "except ZeroDivisionError:\n",
        "    print(\"❌ Can't divide by zero!\")\n",
        "else:\n",
        "    print(f\"✅ Success! Result is {result}\")\n"
      ]
    },
    {
      "cell_type": "markdown",
      "metadata": {},
      "source": [
        "## 🧹 The finally Block: Cleanup Code\n",
        "\n",
        "The `finally` block ALWAYS runs, whether an exception occurred or not. It's perfect for cleanup tasks!\n"
      ]
    },
    {
      "cell_type": "code",
      "execution_count": 34,
      "metadata": {},
      "outputs": [
        {
          "name": "stdout",
          "output_type": "stream",
          "text": [
            "❌ Not a valid number!\n",
            "🧹 Done processing\n"
          ]
        }
      ],
      "source": [
        "# Example 4: try-except-else-finally\n",
        "try:\n",
        "    number = float(input(\"Enter a number: \"))\n",
        "    result = 100 / number\n",
        "except ValueError:\n",
        "    print(\"❌ Not a valid number!\")\n",
        "except:\n",
        "    print(\"❌ An unexpected error occurred!\")\n",
        "else:\n",
        "    print(f\"✅ Result: {result}\")\n",
        "finally:\n",
        "    print(\"🧹 Done processing\")\n"
      ]
    },
    {
      "cell_type": "code",
      "execution_count": 35,
      "metadata": {},
      "outputs": [
        {
          "name": "stdout",
          "output_type": "stream",
          "text": [
            "✅ Result: 16.666666666666668\n",
            "🧹 Done processing\n"
          ]
        }
      ],
      "source": [
        "# Example 4: try-except-else-finally\n",
        "try:\n",
        "    number = float(input(\"Enter a number: \"))\n",
        "    result = 100 / number\n",
        "except ValueError:\n",
        "    print(\"❌ Not a valid number!\")\n",
        "except:\n",
        "    print(\"❌ An unexpected error occurred!\")\n",
        "else:\n",
        "    print(f\"✅ Result: {result}\")\n",
        "finally:\n",
        "    print(\"🧹 Done processing\")\n"
      ]
    },
    {
      "cell_type": "markdown",
      "metadata": {},
      "source": [
        "## 📁 File Handling + Exception Handling = Best Practice!\n",
        "\n",
        "When working with files, always use exception handling to make your code robust!\n"
      ]
    },
    {
      "cell_type": "code",
      "execution_count": null,
      "metadata": {},
      "outputs": [
        {
          "name": "stdout",
          "output_type": "stream",
          "text": [
            "🎓 Student Grade Manager:\n",
            "========================================\n",
            "🧮 Processing grades...\n",
            "\n",
            "❌ File 'grades.txt' not found!\n",
            "\n",
            "💡 Program finished safely and cleanly!\n"
          ]
        }
      ],
      "source": [
        "# Example 5: Safe file operations with exception handling\n",
        "print(\"📁 Safe File Operations:\")\n",
        "print(\"=\" * 40)\n",
        "\n",
        "def safe_file_reader(filename):\n",
        "    \"\"\"\n",
        "    Safely read a file with error handling.\n",
        "    Args:\n",
        "        filename (str): Path to the file to read\n",
        "    Returns:\n",
        "        str or None: File content if successful, None otherwise\n",
        "    \"\"\"\n",
        "    try:\n",
        "        with open(filename, 'r') as file:\n",
        "            content = file.read()\n",
        "            print(f\"✅ Successfully read '{filename}'\")\n",
        "            return content\n",
        "            \n",
        "    except FileNotFoundError:\n",
        "        print(f\"❌ File '{filename}' not found!\")\n",
        "        return None\n",
        "        \n",
        "    except Exception as e:\n",
        "        print(f\"❌ Error reading file: {e}\")\n",
        "        return None\n",
        "\n",
        "# Test with a couple of files\n",
        "test_files = ['sample.txt', 'nonexistent.txt']\n",
        "\n",
        "print(\"🧪 Testing safe file reading:\")\n",
        "for filename in test_files:\n",
        "    print(f\"\\n📖 Reading {filename}:\")\n",
        "    result = safe_file_reader(filename)\n",
        "    \n",
        "    if result:\n",
        "        print(f\"📄 Content: {result[:50]}...\")\n",
        "\n",
        "print(\"\\n💡 The program handles missing files gracefully!\")\n"
      ]
    },
    {
      "cell_type": "markdown",
      "metadata": {},
      "source": [
        "# 💪 Practical Exercises\n",
        "\n",
        "Time to practice what you've learned! Try these exercises to reinforce your understanding.\n",
        "\n",
        "---\n",
        "\n",
        "## 🏋️ Exercise 1: Student Grade Manager\n",
        "\n",
        "Create a program that manages student grades and handles various errors gracefully.\n"
      ]
    },
    {
      "cell_type": "code",
      "execution_count": null,
      "metadata": {},
      "outputs": [],
      "source": [
        "# Exercise 1: Student Grade Manager\n",
        "# TODO: Create a comprehensive grade management system with error handling\n",
        "\n",
        "\"\"\"\n",
        "📋 Your Task:\n",
        "Create a program that manages student grades and handles various errors gracefully.\n",
        "\n",
        "🎯 Requirements:\n",
        "1. Create a function called `grade_manager()` that:\n",
        "   - Reads grades from the file and stores them in a dictionary\n",
        "   - Handles file reading errors gracefully\n",
        "   - Validates grade data format (handle invalid lines)\n",
        "   - Calculates and displays statistics (average, highest, lowest)\n",
        "   - Saves a summary report to a new file(Sumamry writwe 'w' mode a )\n",
        "\n",
        "🧪 Test cases to consider:\n",
        "- Valid grade file\n",
        "- Missing grade file\n",
        "- File with some invalid lines\n",
        "- File creation/writing errors\n",
        "\"\"\"\n",
        "\n",
        "# Write your solution here:\n",
        "# def grade_manager():\n",
        "#     # Your code here\n",
        "#     pass\n",
        "\n",
        "# grade_manager()\n"
      ]
    },
    {
      "cell_type": "markdown",
      "metadata": {},
      "source": [
        "### Assignment"
      ]
    },
    {
      "cell_type": "code",
      "execution_count": 28,
      "metadata": {},
      "outputs": [
        {
          "name": "stdout",
          "output_type": "stream",
          "text": [
            "File read successfully.\n",
            "\n",
            "--- Grade Summary ---\n",
            "Alice: 32\n",
            "Bob: 78\n",
            "Charlie: 85\n",
            "Diana: 94\n",
            "Eve: Unknown\n",
            "Frank: 87\n",
            "Grace: Unknown\n",
            "Henry: 91\n",
            "Ivy: 76\n",
            "Jack: 88\n",
            "Unknown: 95\n",
            "---------------------\n",
            "Average: 80.66666666666667\n",
            "Highest: 95\n",
            "Lowest: 32\n",
            "\n",
            "Summary saved to summary.txt\n"
          ]
        }
      ],
      "source": [
        "def grade_manager():\n",
        "    filename = \"grades.txt\"\n",
        "    grades = {}\n",
        "\n",
        "    try:\n",
        "        with open(filename, \"r\") as file:\n",
        "            lines = file.readlines()\n",
        "        print(\"File read successfully.\")\n",
        "    except FileNotFoundError:\n",
        "        print(\"File not found!\")\n",
        "        return\n",
        "    except Exception as e:\n",
        "        print(\"Error reading file:\", e)\n",
        "        return\n",
        "\n",
        "    for line in lines:\n",
        "        line = line.strip()\n",
        "        if not line:\n",
        "            continue\n",
        "\n",
        "        parts = line.split(\",\")\n",
        "\n",
        "        if len(parts) == 2:\n",
        "            name, grade = parts[0].strip(), parts[1].strip()\n",
        "        elif len(parts) == 1:\n",
        "            item = parts[0].strip()\n",
        "            if item.isdigit():\n",
        "                name, grade = \"Unknown\", item\n",
        "            else:\n",
        "                name, grade = item, \"Unknown\"\n",
        "        else:\n",
        "            print(\"Invalid line skipped:\", line)\n",
        "            continue\n",
        "\n",
        "        if grade.isdigit():\n",
        "            grades[name] = int(grade)\n",
        "        else:\n",
        "            grades[name] = \"Unknown\"\n",
        "\n",
        "    valid = [g for g in grades.values() if isinstance(g, int)]\n",
        "    if valid:\n",
        "        avg = sum(valid) / len(valid)\n",
        "        highest = max(valid)\n",
        "        lowest = min(valid)\n",
        "    else:\n",
        "        avg = highest = lowest = \"N/A\"\n",
        "\n",
        "    print(\"\\n--- Grade Summary ---\")\n",
        "    for name, grade in grades.items():\n",
        "        print(f\"{name}: {grade}\")\n",
        "    print(\"---------------------\")\n",
        "    print(f\"Average: {avg}\")\n",
        "    print(f\"Highest: {highest}\")\n",
        "    print(f\"Lowest: {lowest}\")\n",
        "\n",
        "    try:\n",
        "        with open(\"summary.txt\", \"w\") as f:\n",
        "            f.write(\"--- Grade Summary ---\\n\")\n",
        "            for name, grade in grades.items():\n",
        "                f.write(f\"{name}: {grade}\\n\")\n",
        "            f.write(\"---------------------\\n\")\n",
        "            f.write(f\"Average: {avg}\\n\")\n",
        "            f.write(f\"Highest: {highest}\\n\")\n",
        "            f.write(f\"Lowest: {lowest}\\n\")\n",
        "        print(\"\\nSummary saved to summary.txt\")\n",
        "    except Exception as e:\n",
        "        print(\"Error writing summary file:\", e)\n",
        "\n",
        "grade_manager()\n"
      ]
    },
    {
      "cell_type": "code",
      "execution_count": null,
      "metadata": {},
      "outputs": [
        {
          "name": "stdout",
          "output_type": "stream",
          "text": [
            "❌ Input file 'student_grades.txt' not found!\n"
          ]
        }
      ],
      "source": [
        "# Exercise 1: Student Grade Manager\n",
        "def grade_manager():\n",
        "    # Your code here\n",
        "    pass\n",
        "#     - Reads grades from the file and stores them in a dictionary\n",
        "grade_dict {}"
      ]
    },
    {
      "cell_type": "markdown",
      "metadata": {},
      "source": [
        "# 📋 Summary & Key Takeaways\n",
        "\n",
        "Congratulations! 🎉 You've completed Day 7 of your Python journey. Let's recap what you've mastered:\n",
        "\n",
        "---\n",
        "\n",
        "## 🎓 What You've Learned\n",
        "\n",
        "### 📁 File Operations\n",
        "- ✅ **Reading files**: `read()`, line-by-line processing\n",
        "- ✅ **Writing files**: `write()`, `writelines()`, append mode\n",
        "- ✅ **File modes**: `'r'`, `'w'`, `'a'`, `'w+'`, `'rb'`, `'wb'`\n",
        "- ✅ **Binary files**: Handling non-text data\n",
        "- ✅ **File statistics**: Counting lines, words, characters\n",
        "\n",
        "### 🗺️ File Path Management\n",
        "- ✅ **Path operations**: `os.getcwd()`, `os.path.join()`\n",
        "- ✅ **Directory operations**: `os.mkdir()`, `os.makedirs()`, `os.listdir()`\n",
        "- ✅ **Path checking**: `os.path.exists()`, `os.path.isfile()`, `os.path.isdir()`\n",
        "- ✅ **Absolute paths**: `os.path.abspath()`, path components\n",
        "\n",
        "### 🚨 Exception Handling\n",
        "- ✅ **Basic structure**: `try-except` blocks\n",
        "- ✅ **Specific exceptions**: `FileNotFoundError`, `ValueError`, `ZeroDivisionError`\n",
        "- ✅ **Advanced structure**: `try-except-else-finally`\n",
        "- ✅ **Best practices**: Graceful error handling, cleanup code\n",
        "\n",
        "---\n"
      ]
    },
    {
      "cell_type": "markdown",
      "metadata": {},
      "source": [
        "## 🎯 Best Practices Learned\n",
        "\n",
        "1. **Always use `with` statements** for file operations - they automatically close files\n",
        "2. **Check if files exist** before trying to read them\n",
        "3. **Use `os.path.join()`** for cross-platform path compatibility\n",
        "4. **Handle specific exceptions** rather than generic ones\n",
        "5. **Always include cleanup code** in `finally` blocks\n",
        "6. **Provide meaningful error messages** to users\n",
        "7. **Test your code** with both valid and invalid inputs\n",
        "\n",
        "---\n",
        "\n",
        "## 🧠 Key Concepts to Remember\n",
        "\n",
        "### 💡 The Power of Context Managers (`with` statement)\n",
        "```python\n",
        "# ✅ Good - Automatically closes file\n",
        "with open('file.txt', 'r') as file:\n",
        "    content = file.read()\n",
        "\n",
        "# ❌ Bad - Must remember to close file\n",
        "file = open('file.txt', 'r')\n",
        "content = file.read()\n",
        "file.close()  # Easy to forget!\n",
        "```\n",
        "\n",
        "### 💡 Exception Handling Structure\n",
        "```python\n",
        "try:\n",
        "    # Code that might raise an exception\n",
        "    risky_operation()\n",
        "except SpecificError as e:\n",
        "    # Handle specific error\n",
        "    print(f\"Specific error: {e}\")\n",
        "except Exception as e:\n",
        "    # Handle any other error\n",
        "    print(f\"Unexpected error: {e}\")\n",
        "else:\n",
        "    # Runs only if no exception occurred\n",
        "    print(\"Success!\")\n",
        "finally:\n",
        "    # Always runs - perfect for cleanup\n",
        "    cleanup_resources()\n",
        "```\n",
        "\n",
        "---\n"
      ]
    }
  ],
  "metadata": {
    "kernelspec": {
      "display_name": "Python 3",
      "language": "python",
      "name": "python3"
    },
    "language_info": {
      "codemirror_mode": {
        "name": "ipython",
        "version": 3
      },
      "file_extension": ".py",
      "mimetype": "text/x-python",
      "name": "python",
      "nbconvert_exporter": "python",
      "pygments_lexer": "ipython3",
      "version": "3.12.10"
    }
  },
  "nbformat": 4,
  "nbformat_minor": 2
}
